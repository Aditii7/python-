{
  "cells": [
    {
      "metadata": {
        "trusted": true
      },
      "cell_type": "code",
      "source": "import pandas as pd\nimport numpy as np\nimport warnings \nwarnings.filterwarnings(\"ignore\")                                       ",
      "execution_count": 1,
      "outputs": []
    },
    {
      "metadata": {
        "trusted": true
      },
      "cell_type": "code",
      "source": "path=('book (1).csv')\ndf=pd.read_csv(path,sep=None,usecols=['User.ID','Book.Title','Book.Rating'])",
      "execution_count": 2,
      "outputs": []
    },
    {
      "metadata": {
        "trusted": true
      },
      "cell_type": "code",
      "source": "df",
      "execution_count": 3,
      "outputs": [
        {
          "output_type": "execute_result",
          "execution_count": 3,
          "data": {
            "text/plain": "      User.ID                                         Book.Title  Book.Rating\n0      276726                                Classical Mythology            5\n1      276729                                       Clara Callan            3\n2      276729                               Decision in Normandy            6\n3      276736  Flu: The Story of the Great Influenza Pandemic...            8\n4      276737                             The Mummies of Urumchi            6\n...       ...                                                ...          ...\n9995   162121       American Fried: Adventures of a Happy Eater.            7\n9996   162121                              Cannibal In Manhattan            9\n9997   162121                    How to Flirt: A Practical Guide            7\n9998   162121                                           Twilight            8\n9999   162129                       Kids Say the Darndest Things            6\n\n[10000 rows x 3 columns]",
            "text/html": "<div>\n<style scoped>\n    .dataframe tbody tr th:only-of-type {\n        vertical-align: middle;\n    }\n\n    .dataframe tbody tr th {\n        vertical-align: top;\n    }\n\n    .dataframe thead th {\n        text-align: right;\n    }\n</style>\n<table border=\"1\" class=\"dataframe\">\n  <thead>\n    <tr style=\"text-align: right;\">\n      <th></th>\n      <th>User.ID</th>\n      <th>Book.Title</th>\n      <th>Book.Rating</th>\n    </tr>\n  </thead>\n  <tbody>\n    <tr>\n      <th>0</th>\n      <td>276726</td>\n      <td>Classical Mythology</td>\n      <td>5</td>\n    </tr>\n    <tr>\n      <th>1</th>\n      <td>276729</td>\n      <td>Clara Callan</td>\n      <td>3</td>\n    </tr>\n    <tr>\n      <th>2</th>\n      <td>276729</td>\n      <td>Decision in Normandy</td>\n      <td>6</td>\n    </tr>\n    <tr>\n      <th>3</th>\n      <td>276736</td>\n      <td>Flu: The Story of the Great Influenza Pandemic...</td>\n      <td>8</td>\n    </tr>\n    <tr>\n      <th>4</th>\n      <td>276737</td>\n      <td>The Mummies of Urumchi</td>\n      <td>6</td>\n    </tr>\n    <tr>\n      <th>...</th>\n      <td>...</td>\n      <td>...</td>\n      <td>...</td>\n    </tr>\n    <tr>\n      <th>9995</th>\n      <td>162121</td>\n      <td>American Fried: Adventures of a Happy Eater.</td>\n      <td>7</td>\n    </tr>\n    <tr>\n      <th>9996</th>\n      <td>162121</td>\n      <td>Cannibal In Manhattan</td>\n      <td>9</td>\n    </tr>\n    <tr>\n      <th>9997</th>\n      <td>162121</td>\n      <td>How to Flirt: A Practical Guide</td>\n      <td>7</td>\n    </tr>\n    <tr>\n      <th>9998</th>\n      <td>162121</td>\n      <td>Twilight</td>\n      <td>8</td>\n    </tr>\n    <tr>\n      <th>9999</th>\n      <td>162129</td>\n      <td>Kids Say the Darndest Things</td>\n      <td>6</td>\n    </tr>\n  </tbody>\n</table>\n<p>10000 rows × 3 columns</p>\n</div>"
          },
          "metadata": {}
        }
      ]
    },
    {
      "metadata": {
        "trusted": true
      },
      "cell_type": "code",
      "source": "df",
      "execution_count": 4,
      "outputs": [
        {
          "output_type": "execute_result",
          "execution_count": 4,
          "data": {
            "text/plain": "      User.ID                                         Book.Title  Book.Rating\n0      276726                                Classical Mythology            5\n1      276729                                       Clara Callan            3\n2      276729                               Decision in Normandy            6\n3      276736  Flu: The Story of the Great Influenza Pandemic...            8\n4      276737                             The Mummies of Urumchi            6\n...       ...                                                ...          ...\n9995   162121       American Fried: Adventures of a Happy Eater.            7\n9996   162121                              Cannibal In Manhattan            9\n9997   162121                    How to Flirt: A Practical Guide            7\n9998   162121                                           Twilight            8\n9999   162129                       Kids Say the Darndest Things            6\n\n[10000 rows x 3 columns]",
            "text/html": "<div>\n<style scoped>\n    .dataframe tbody tr th:only-of-type {\n        vertical-align: middle;\n    }\n\n    .dataframe tbody tr th {\n        vertical-align: top;\n    }\n\n    .dataframe thead th {\n        text-align: right;\n    }\n</style>\n<table border=\"1\" class=\"dataframe\">\n  <thead>\n    <tr style=\"text-align: right;\">\n      <th></th>\n      <th>User.ID</th>\n      <th>Book.Title</th>\n      <th>Book.Rating</th>\n    </tr>\n  </thead>\n  <tbody>\n    <tr>\n      <th>0</th>\n      <td>276726</td>\n      <td>Classical Mythology</td>\n      <td>5</td>\n    </tr>\n    <tr>\n      <th>1</th>\n      <td>276729</td>\n      <td>Clara Callan</td>\n      <td>3</td>\n    </tr>\n    <tr>\n      <th>2</th>\n      <td>276729</td>\n      <td>Decision in Normandy</td>\n      <td>6</td>\n    </tr>\n    <tr>\n      <th>3</th>\n      <td>276736</td>\n      <td>Flu: The Story of the Great Influenza Pandemic...</td>\n      <td>8</td>\n    </tr>\n    <tr>\n      <th>4</th>\n      <td>276737</td>\n      <td>The Mummies of Urumchi</td>\n      <td>6</td>\n    </tr>\n    <tr>\n      <th>...</th>\n      <td>...</td>\n      <td>...</td>\n      <td>...</td>\n    </tr>\n    <tr>\n      <th>9995</th>\n      <td>162121</td>\n      <td>American Fried: Adventures of a Happy Eater.</td>\n      <td>7</td>\n    </tr>\n    <tr>\n      <th>9996</th>\n      <td>162121</td>\n      <td>Cannibal In Manhattan</td>\n      <td>9</td>\n    </tr>\n    <tr>\n      <th>9997</th>\n      <td>162121</td>\n      <td>How to Flirt: A Practical Guide</td>\n      <td>7</td>\n    </tr>\n    <tr>\n      <th>9998</th>\n      <td>162121</td>\n      <td>Twilight</td>\n      <td>8</td>\n    </tr>\n    <tr>\n      <th>9999</th>\n      <td>162129</td>\n      <td>Kids Say the Darndest Things</td>\n      <td>6</td>\n    </tr>\n  </tbody>\n</table>\n<p>10000 rows × 3 columns</p>\n</div>"
          },
          "metadata": {}
        }
      ]
    },
    {
      "metadata": {
        "trusted": true
      },
      "cell_type": "code",
      "source": "df=df.rename({'user_ID':'user_id','Book.Title':'book_title','Book.Rating':'book_rating'},axis=1)\ndf",
      "execution_count": 5,
      "outputs": [
        {
          "output_type": "execute_result",
          "execution_count": 5,
          "data": {
            "text/plain": "      User.ID                                         book_title  book_rating\n0      276726                                Classical Mythology            5\n1      276729                                       Clara Callan            3\n2      276729                               Decision in Normandy            6\n3      276736  Flu: The Story of the Great Influenza Pandemic...            8\n4      276737                             The Mummies of Urumchi            6\n...       ...                                                ...          ...\n9995   162121       American Fried: Adventures of a Happy Eater.            7\n9996   162121                              Cannibal In Manhattan            9\n9997   162121                    How to Flirt: A Practical Guide            7\n9998   162121                                           Twilight            8\n9999   162129                       Kids Say the Darndest Things            6\n\n[10000 rows x 3 columns]",
            "text/html": "<div>\n<style scoped>\n    .dataframe tbody tr th:only-of-type {\n        vertical-align: middle;\n    }\n\n    .dataframe tbody tr th {\n        vertical-align: top;\n    }\n\n    .dataframe thead th {\n        text-align: right;\n    }\n</style>\n<table border=\"1\" class=\"dataframe\">\n  <thead>\n    <tr style=\"text-align: right;\">\n      <th></th>\n      <th>User.ID</th>\n      <th>book_title</th>\n      <th>book_rating</th>\n    </tr>\n  </thead>\n  <tbody>\n    <tr>\n      <th>0</th>\n      <td>276726</td>\n      <td>Classical Mythology</td>\n      <td>5</td>\n    </tr>\n    <tr>\n      <th>1</th>\n      <td>276729</td>\n      <td>Clara Callan</td>\n      <td>3</td>\n    </tr>\n    <tr>\n      <th>2</th>\n      <td>276729</td>\n      <td>Decision in Normandy</td>\n      <td>6</td>\n    </tr>\n    <tr>\n      <th>3</th>\n      <td>276736</td>\n      <td>Flu: The Story of the Great Influenza Pandemic...</td>\n      <td>8</td>\n    </tr>\n    <tr>\n      <th>4</th>\n      <td>276737</td>\n      <td>The Mummies of Urumchi</td>\n      <td>6</td>\n    </tr>\n    <tr>\n      <th>...</th>\n      <td>...</td>\n      <td>...</td>\n      <td>...</td>\n    </tr>\n    <tr>\n      <th>9995</th>\n      <td>162121</td>\n      <td>American Fried: Adventures of a Happy Eater.</td>\n      <td>7</td>\n    </tr>\n    <tr>\n      <th>9996</th>\n      <td>162121</td>\n      <td>Cannibal In Manhattan</td>\n      <td>9</td>\n    </tr>\n    <tr>\n      <th>9997</th>\n      <td>162121</td>\n      <td>How to Flirt: A Practical Guide</td>\n      <td>7</td>\n    </tr>\n    <tr>\n      <th>9998</th>\n      <td>162121</td>\n      <td>Twilight</td>\n      <td>8</td>\n    </tr>\n    <tr>\n      <th>9999</th>\n      <td>162129</td>\n      <td>Kids Say the Darndest Things</td>\n      <td>6</td>\n    </tr>\n  </tbody>\n</table>\n<p>10000 rows × 3 columns</p>\n</div>"
          },
          "metadata": {}
        }
      ]
    },
    {
      "metadata": {
        "trusted": true
      },
      "cell_type": "code",
      "source": "len(df['User.ID'].unique())",
      "execution_count": 6,
      "outputs": [
        {
          "output_type": "execute_result",
          "execution_count": 6,
          "data": {
            "text/plain": "2182"
          },
          "metadata": {}
        }
      ]
    },
    {
      "metadata": {
        "trusted": true
      },
      "cell_type": "code",
      "source": "len(df['book_title'].unique())",
      "execution_count": 7,
      "outputs": [
        {
          "output_type": "execute_result",
          "execution_count": 7,
          "data": {
            "text/plain": "9659"
          },
          "metadata": {}
        }
      ]
    },
    {
      "metadata": {
        "trusted": true
      },
      "cell_type": "code",
      "source": "df['book_rating'].value_counts()",
      "execution_count": 8,
      "outputs": [
        {
          "output_type": "execute_result",
          "execution_count": 8,
          "data": {
            "text/plain": "8     2283\n7     2076\n10    1732\n9     1493\n5     1007\n6      920\n4      237\n3      146\n2       63\n1       43\nName: book_rating, dtype: int64"
          },
          "metadata": {}
        }
      ]
    },
    {
      "metadata": {
        "trusted": true
      },
      "cell_type": "code",
      "source": "len(df['book_rating'].unique())",
      "execution_count": 9,
      "outputs": [
        {
          "output_type": "execute_result",
          "execution_count": 9,
          "data": {
            "text/plain": "10"
          },
          "metadata": {}
        }
      ]
    },
    {
      "metadata": {
        "trusted": true
      },
      "cell_type": "code",
      "source": "df.isna().sum()",
      "execution_count": 10,
      "outputs": [
        {
          "output_type": "execute_result",
          "execution_count": 10,
          "data": {
            "text/plain": "User.ID        0\nbook_title     0\nbook_rating    0\ndtype: int64"
          },
          "metadata": {}
        }
      ]
    },
    {
      "metadata": {
        "trusted": true
      },
      "cell_type": "code",
      "source": "df.duplicated().sum()",
      "execution_count": 11,
      "outputs": [
        {
          "output_type": "execute_result",
          "execution_count": 11,
          "data": {
            "text/plain": "2"
          },
          "metadata": {}
        }
      ]
    },
    {
      "metadata": {
        "trusted": true
      },
      "cell_type": "code",
      "source": "df1=df.drop_duplicates(['User.ID','book_title'])\ndf1",
      "execution_count": 12,
      "outputs": [
        {
          "output_type": "execute_result",
          "execution_count": 12,
          "data": {
            "text/plain": "      User.ID                                         book_title  book_rating\n0      276726                                Classical Mythology            5\n1      276729                                       Clara Callan            3\n2      276729                               Decision in Normandy            6\n3      276736  Flu: The Story of the Great Influenza Pandemic...            8\n4      276737                             The Mummies of Urumchi            6\n...       ...                                                ...          ...\n9995   162121       American Fried: Adventures of a Happy Eater.            7\n9996   162121                              Cannibal In Manhattan            9\n9997   162121                    How to Flirt: A Practical Guide            7\n9998   162121                                           Twilight            8\n9999   162129                       Kids Say the Darndest Things            6\n\n[9993 rows x 3 columns]",
            "text/html": "<div>\n<style scoped>\n    .dataframe tbody tr th:only-of-type {\n        vertical-align: middle;\n    }\n\n    .dataframe tbody tr th {\n        vertical-align: top;\n    }\n\n    .dataframe thead th {\n        text-align: right;\n    }\n</style>\n<table border=\"1\" class=\"dataframe\">\n  <thead>\n    <tr style=\"text-align: right;\">\n      <th></th>\n      <th>User.ID</th>\n      <th>book_title</th>\n      <th>book_rating</th>\n    </tr>\n  </thead>\n  <tbody>\n    <tr>\n      <th>0</th>\n      <td>276726</td>\n      <td>Classical Mythology</td>\n      <td>5</td>\n    </tr>\n    <tr>\n      <th>1</th>\n      <td>276729</td>\n      <td>Clara Callan</td>\n      <td>3</td>\n    </tr>\n    <tr>\n      <th>2</th>\n      <td>276729</td>\n      <td>Decision in Normandy</td>\n      <td>6</td>\n    </tr>\n    <tr>\n      <th>3</th>\n      <td>276736</td>\n      <td>Flu: The Story of the Great Influenza Pandemic...</td>\n      <td>8</td>\n    </tr>\n    <tr>\n      <th>4</th>\n      <td>276737</td>\n      <td>The Mummies of Urumchi</td>\n      <td>6</td>\n    </tr>\n    <tr>\n      <th>...</th>\n      <td>...</td>\n      <td>...</td>\n      <td>...</td>\n    </tr>\n    <tr>\n      <th>9995</th>\n      <td>162121</td>\n      <td>American Fried: Adventures of a Happy Eater.</td>\n      <td>7</td>\n    </tr>\n    <tr>\n      <th>9996</th>\n      <td>162121</td>\n      <td>Cannibal In Manhattan</td>\n      <td>9</td>\n    </tr>\n    <tr>\n      <th>9997</th>\n      <td>162121</td>\n      <td>How to Flirt: A Practical Guide</td>\n      <td>7</td>\n    </tr>\n    <tr>\n      <th>9998</th>\n      <td>162121</td>\n      <td>Twilight</td>\n      <td>8</td>\n    </tr>\n    <tr>\n      <th>9999</th>\n      <td>162129</td>\n      <td>Kids Say the Darndest Things</td>\n      <td>6</td>\n    </tr>\n  </tbody>\n</table>\n<p>9993 rows × 3 columns</p>\n</div>"
          },
          "metadata": {}
        }
      ]
    },
    {
      "metadata": {
        "trusted": true
      },
      "cell_type": "code",
      "source": "books = df1.pivot(index='User.ID',\n                  columns='book_title',\n                  values='book_rating').reset_index(drop=True)",
      "execution_count": 13,
      "outputs": []
    },
    {
      "metadata": {
        "trusted": true
      },
      "cell_type": "code",
      "source": "books",
      "execution_count": 14,
      "outputs": [
        {
          "output_type": "execute_result",
          "execution_count": 14,
          "data": {
            "text/plain": "book_title   Jason, Madison &amp   Other Stories;Merril;1985;McClelland &amp  \\\n0                            NaN                                         NaN   \n1                            NaN                                         NaN   \n2                            NaN                                         NaN   \n3                            NaN                                         NaN   \n4                            NaN                                         NaN   \n...                          ...                                         ...   \n2177                         NaN                                         NaN   \n2178                         NaN                                         NaN   \n2179                         NaN                                         NaN   \n2180                         NaN                                         NaN   \n2181                         NaN                                         NaN   \n\nbook_title   Repairing PC Drives &amp  '48  \\\n0                                 NaN  NaN   \n1                                 NaN  NaN   \n2                                 NaN  NaN   \n3                                 NaN  NaN   \n4                                 NaN  NaN   \n...                               ...  ...   \n2177                              NaN  NaN   \n2178                              NaN  NaN   \n2179                              NaN  NaN   \n2180                              NaN  NaN   \n2181                              NaN  NaN   \n\nbook_title  'O Au No Keia: Voices from Hawai'I's Mahu and Transgender Communities  \\\n0                                                         NaN                       \n1                                                         NaN                       \n2                                                         NaN                       \n3                                                         NaN                       \n4                                                         NaN                       \n...                                                       ...                       \n2177                                                      NaN                       \n2178                                                      NaN                       \n2179                                                      NaN                       \n2180                                                      NaN                       \n2181                                                      NaN                       \n\nbook_title  ...AND THE HORSE HE RODE IN ON : THE PEOPLE V. KENNETH STARR  \\\n0                                                         NaN              \n1                                                         NaN              \n2                                                         NaN              \n3                                                         NaN              \n4                                                         NaN              \n...                                                       ...              \n2177                                                      NaN              \n2178                                                      NaN              \n2179                                                      NaN              \n2180                                                      NaN              \n2181                                                      NaN              \n\nbook_title  01-01-00: A Novel of the Millennium  \\\n0                                           NaN   \n1                                           NaN   \n2                                           NaN   \n3                                           NaN   \n4                                           NaN   \n...                                         ...   \n2177                                        NaN   \n2178                                        NaN   \n2179                                        NaN   \n2180                                        NaN   \n2181                                        NaN   \n\nbook_title  1,401 More Things That P*Ss Me Off  10 Commandments Of Dating  \\\n0                                          NaN                        NaN   \n1                                          NaN                        NaN   \n2                                          NaN                        NaN   \n3                                          NaN                        NaN   \n4                                          NaN                        NaN   \n...                                        ...                        ...   \n2177                                       NaN                        NaN   \n2178                                       NaN                        NaN   \n2179                                       NaN                        NaN   \n2180                                       NaN                        NaN   \n2181                                       NaN                        NaN   \n\nbook_title  100 Great Fantasy Short, Short Stories  ...  \\\n0                                              NaN  ...   \n1                                              NaN  ...   \n2                                              NaN  ...   \n3                                              NaN  ...   \n4                                              NaN  ...   \n...                                            ...  ...   \n2177                                           NaN  ...   \n2178                                           NaN  ...   \n2179                                           NaN  ...   \n2180                                           NaN  ...   \n2181                                           NaN  ...   \n\nbook_title  Zora Hurston and the Chinaberry Tree (Reading Rainbow Book)  \\\n0                                                         NaN             \n1                                                         NaN             \n2                                                         NaN             \n3                                                         NaN             \n4                                                         NaN             \n...                                                       ...             \n2177                                                      NaN             \n2178                                                      NaN             \n2179                                                      NaN             \n2180                                                      NaN             \n2181                                                      NaN             \n\nbook_title  \\Even Monkeys Fall from Trees\\ and Other Japanese Proverbs  \\\n0                                                         NaN            \n1                                                         NaN            \n2                                                         NaN            \n3                                                         NaN            \n4                                                         NaN            \n...                                                       ...            \n2177                                                      NaN            \n2178                                                      NaN            \n2179                                                      NaN            \n2180                                                      NaN            \n2181                                                      NaN            \n\nbook_title  \\I Won't Learn from You\\: And Other Thoughts on Creative Maladjustment  \\\n0                                                         NaN                        \n1                                                         NaN                        \n2                                                         NaN                        \n3                                                         NaN                        \n4                                                         NaN                        \n...                                                       ...                        \n2177                                                      NaN                        \n2178                                                      NaN                        \n2179                                                      NaN                        \n2180                                                      NaN                        \n2181                                                      NaN                        \n\nbook_title  \\More More More,\\ Said the Baby  \\O\\ Is for Outlaw  \\\n0                                       NaN                NaN   \n1                                       NaN                NaN   \n2                                       NaN                NaN   \n3                                       NaN                NaN   \n4                                       NaN                NaN   \n...                                     ...                ...   \n2177                                    NaN                NaN   \n2178                                    NaN                NaN   \n2179                                    NaN                NaN   \n2180                                    NaN                NaN   \n2181                                    NaN                NaN   \n\nbook_title  \\Surely You're Joking, Mr. Feynman!\\: Adventures of a Curious Character  \\\n0                                                         NaN                         \n1                                                         NaN                         \n2                                                         NaN                         \n3                                                         NaN                         \n4                                                         NaN                         \n...                                                       ...                         \n2177                                                      NaN                         \n2178                                                      NaN                         \n2179                                                      NaN                         \n2180                                                      NaN                         \n2181                                                      NaN                         \n\nbook_title  \\Well, there's your problem\\: Cartoons  iI Paradiso Degli Orchi  \\\n0                                              NaN                      NaN   \n1                                              NaN                      NaN   \n2                                              NaN                      NaN   \n3                                              NaN                      NaN   \n4                                              NaN                      NaN   \n...                                            ...                      ...   \n2177                                           NaN                      NaN   \n2178                                           NaN                      NaN   \n2179                                           NaN                      7.0   \n2180                                           NaN                      NaN   \n2181                                           NaN                      NaN   \n\nbook_title  stardust  Ã?Â?bermorgen.  \n0                NaN             NaN  \n1                NaN             NaN  \n2                NaN             NaN  \n3                NaN             NaN  \n4                NaN             NaN  \n...              ...             ...  \n2177             NaN             NaN  \n2178             NaN             NaN  \n2179             NaN             NaN  \n2180             NaN             NaN  \n2181             NaN             NaN  \n\n[2182 rows x 9659 columns]",
            "text/html": "<div>\n<style scoped>\n    .dataframe tbody tr th:only-of-type {\n        vertical-align: middle;\n    }\n\n    .dataframe tbody tr th {\n        vertical-align: top;\n    }\n\n    .dataframe thead th {\n        text-align: right;\n    }\n</style>\n<table border=\"1\" class=\"dataframe\">\n  <thead>\n    <tr style=\"text-align: right;\">\n      <th>book_title</th>\n      <th>Jason, Madison &amp;amp</th>\n      <th>Other Stories;Merril;1985;McClelland &amp;amp</th>\n      <th>Repairing PC Drives &amp;amp</th>\n      <th>'48</th>\n      <th>'O Au No Keia: Voices from Hawai'I's Mahu and Transgender Communities</th>\n      <th>...AND THE HORSE HE RODE IN ON : THE PEOPLE V. KENNETH STARR</th>\n      <th>01-01-00: A Novel of the Millennium</th>\n      <th>1,401 More Things That P*Ss Me Off</th>\n      <th>10 Commandments Of Dating</th>\n      <th>100 Great Fantasy Short, Short Stories</th>\n      <th>...</th>\n      <th>Zora Hurston and the Chinaberry Tree (Reading Rainbow Book)</th>\n      <th>\\Even Monkeys Fall from Trees\\ and Other Japanese Proverbs</th>\n      <th>\\I Won't Learn from You\\: And Other Thoughts on Creative Maladjustment</th>\n      <th>\\More More More,\\ Said the Baby</th>\n      <th>\\O\\ Is for Outlaw</th>\n      <th>\\Surely You're Joking, Mr. Feynman!\\: Adventures of a Curious Character</th>\n      <th>\\Well, there's your problem\\: Cartoons</th>\n      <th>iI Paradiso Degli Orchi</th>\n      <th>stardust</th>\n      <th>Ã?Â?bermorgen.</th>\n    </tr>\n  </thead>\n  <tbody>\n    <tr>\n      <th>0</th>\n      <td>NaN</td>\n      <td>NaN</td>\n      <td>NaN</td>\n      <td>NaN</td>\n      <td>NaN</td>\n      <td>NaN</td>\n      <td>NaN</td>\n      <td>NaN</td>\n      <td>NaN</td>\n      <td>NaN</td>\n      <td>...</td>\n      <td>NaN</td>\n      <td>NaN</td>\n      <td>NaN</td>\n      <td>NaN</td>\n      <td>NaN</td>\n      <td>NaN</td>\n      <td>NaN</td>\n      <td>NaN</td>\n      <td>NaN</td>\n      <td>NaN</td>\n    </tr>\n    <tr>\n      <th>1</th>\n      <td>NaN</td>\n      <td>NaN</td>\n      <td>NaN</td>\n      <td>NaN</td>\n      <td>NaN</td>\n      <td>NaN</td>\n      <td>NaN</td>\n      <td>NaN</td>\n      <td>NaN</td>\n      <td>NaN</td>\n      <td>...</td>\n      <td>NaN</td>\n      <td>NaN</td>\n      <td>NaN</td>\n      <td>NaN</td>\n      <td>NaN</td>\n      <td>NaN</td>\n      <td>NaN</td>\n      <td>NaN</td>\n      <td>NaN</td>\n      <td>NaN</td>\n    </tr>\n    <tr>\n      <th>2</th>\n      <td>NaN</td>\n      <td>NaN</td>\n      <td>NaN</td>\n      <td>NaN</td>\n      <td>NaN</td>\n      <td>NaN</td>\n      <td>NaN</td>\n      <td>NaN</td>\n      <td>NaN</td>\n      <td>NaN</td>\n      <td>...</td>\n      <td>NaN</td>\n      <td>NaN</td>\n      <td>NaN</td>\n      <td>NaN</td>\n      <td>NaN</td>\n      <td>NaN</td>\n      <td>NaN</td>\n      <td>NaN</td>\n      <td>NaN</td>\n      <td>NaN</td>\n    </tr>\n    <tr>\n      <th>3</th>\n      <td>NaN</td>\n      <td>NaN</td>\n      <td>NaN</td>\n      <td>NaN</td>\n      <td>NaN</td>\n      <td>NaN</td>\n      <td>NaN</td>\n      <td>NaN</td>\n      <td>NaN</td>\n      <td>NaN</td>\n      <td>...</td>\n      <td>NaN</td>\n      <td>NaN</td>\n      <td>NaN</td>\n      <td>NaN</td>\n      <td>NaN</td>\n      <td>NaN</td>\n      <td>NaN</td>\n      <td>NaN</td>\n      <td>NaN</td>\n      <td>NaN</td>\n    </tr>\n    <tr>\n      <th>4</th>\n      <td>NaN</td>\n      <td>NaN</td>\n      <td>NaN</td>\n      <td>NaN</td>\n      <td>NaN</td>\n      <td>NaN</td>\n      <td>NaN</td>\n      <td>NaN</td>\n      <td>NaN</td>\n      <td>NaN</td>\n      <td>...</td>\n      <td>NaN</td>\n      <td>NaN</td>\n      <td>NaN</td>\n      <td>NaN</td>\n      <td>NaN</td>\n      <td>NaN</td>\n      <td>NaN</td>\n      <td>NaN</td>\n      <td>NaN</td>\n      <td>NaN</td>\n    </tr>\n    <tr>\n      <th>...</th>\n      <td>...</td>\n      <td>...</td>\n      <td>...</td>\n      <td>...</td>\n      <td>...</td>\n      <td>...</td>\n      <td>...</td>\n      <td>...</td>\n      <td>...</td>\n      <td>...</td>\n      <td>...</td>\n      <td>...</td>\n      <td>...</td>\n      <td>...</td>\n      <td>...</td>\n      <td>...</td>\n      <td>...</td>\n      <td>...</td>\n      <td>...</td>\n      <td>...</td>\n      <td>...</td>\n    </tr>\n    <tr>\n      <th>2177</th>\n      <td>NaN</td>\n      <td>NaN</td>\n      <td>NaN</td>\n      <td>NaN</td>\n      <td>NaN</td>\n      <td>NaN</td>\n      <td>NaN</td>\n      <td>NaN</td>\n      <td>NaN</td>\n      <td>NaN</td>\n      <td>...</td>\n      <td>NaN</td>\n      <td>NaN</td>\n      <td>NaN</td>\n      <td>NaN</td>\n      <td>NaN</td>\n      <td>NaN</td>\n      <td>NaN</td>\n      <td>NaN</td>\n      <td>NaN</td>\n      <td>NaN</td>\n    </tr>\n    <tr>\n      <th>2178</th>\n      <td>NaN</td>\n      <td>NaN</td>\n      <td>NaN</td>\n      <td>NaN</td>\n      <td>NaN</td>\n      <td>NaN</td>\n      <td>NaN</td>\n      <td>NaN</td>\n      <td>NaN</td>\n      <td>NaN</td>\n      <td>...</td>\n      <td>NaN</td>\n      <td>NaN</td>\n      <td>NaN</td>\n      <td>NaN</td>\n      <td>NaN</td>\n      <td>NaN</td>\n      <td>NaN</td>\n      <td>NaN</td>\n      <td>NaN</td>\n      <td>NaN</td>\n    </tr>\n    <tr>\n      <th>2179</th>\n      <td>NaN</td>\n      <td>NaN</td>\n      <td>NaN</td>\n      <td>NaN</td>\n      <td>NaN</td>\n      <td>NaN</td>\n      <td>NaN</td>\n      <td>NaN</td>\n      <td>NaN</td>\n      <td>NaN</td>\n      <td>...</td>\n      <td>NaN</td>\n      <td>NaN</td>\n      <td>NaN</td>\n      <td>NaN</td>\n      <td>NaN</td>\n      <td>NaN</td>\n      <td>NaN</td>\n      <td>7.0</td>\n      <td>NaN</td>\n      <td>NaN</td>\n    </tr>\n    <tr>\n      <th>2180</th>\n      <td>NaN</td>\n      <td>NaN</td>\n      <td>NaN</td>\n      <td>NaN</td>\n      <td>NaN</td>\n      <td>NaN</td>\n      <td>NaN</td>\n      <td>NaN</td>\n      <td>NaN</td>\n      <td>NaN</td>\n      <td>...</td>\n      <td>NaN</td>\n      <td>NaN</td>\n      <td>NaN</td>\n      <td>NaN</td>\n      <td>NaN</td>\n      <td>NaN</td>\n      <td>NaN</td>\n      <td>NaN</td>\n      <td>NaN</td>\n      <td>NaN</td>\n    </tr>\n    <tr>\n      <th>2181</th>\n      <td>NaN</td>\n      <td>NaN</td>\n      <td>NaN</td>\n      <td>NaN</td>\n      <td>NaN</td>\n      <td>NaN</td>\n      <td>NaN</td>\n      <td>NaN</td>\n      <td>NaN</td>\n      <td>NaN</td>\n      <td>...</td>\n      <td>NaN</td>\n      <td>NaN</td>\n      <td>NaN</td>\n      <td>NaN</td>\n      <td>NaN</td>\n      <td>NaN</td>\n      <td>NaN</td>\n      <td>NaN</td>\n      <td>NaN</td>\n      <td>NaN</td>\n    </tr>\n  </tbody>\n</table>\n<p>2182 rows × 9659 columns</p>\n</div>"
          },
          "metadata": {}
        }
      ]
    },
    {
      "metadata": {
        "trusted": true
      },
      "cell_type": "code",
      "source": "books.index=(df['User.ID'].unique())",
      "execution_count": 15,
      "outputs": []
    },
    {
      "metadata": {
        "trusted": true
      },
      "cell_type": "code",
      "source": "books.index",
      "execution_count": 16,
      "outputs": [
        {
          "output_type": "execute_result",
          "execution_count": 16,
          "data": {
            "text/plain": "Int64Index([276726, 276729, 276736, 276737, 276744, 276745, 276747, 276748,\n            276751, 276754,\n            ...\n            162085, 162091, 162092, 162095, 162103, 162107, 162109, 162113,\n            162121, 162129],\n           dtype='int64', length=2182)"
          },
          "metadata": {}
        }
      ]
    },
    {
      "metadata": {
        "trusted": true
      },
      "cell_type": "code",
      "source": "books.fillna(value=0,inplace=True)",
      "execution_count": 17,
      "outputs": []
    },
    {
      "metadata": {
        "trusted": true
      },
      "cell_type": "code",
      "source": "books",
      "execution_count": 18,
      "outputs": [
        {
          "output_type": "execute_result",
          "execution_count": 18,
          "data": {
            "text/plain": "book_title   Jason, Madison &amp   Other Stories;Merril;1985;McClelland &amp  \\\n276726                       0.0                                         0.0   \n276729                       0.0                                         0.0   \n276736                       0.0                                         0.0   \n276737                       0.0                                         0.0   \n276744                       0.0                                         0.0   \n...                          ...                                         ...   \n162107                       0.0                                         0.0   \n162109                       0.0                                         0.0   \n162113                       0.0                                         0.0   \n162121                       0.0                                         0.0   \n162129                       0.0                                         0.0   \n\nbook_title   Repairing PC Drives &amp  '48  \\\n276726                            0.0  0.0   \n276729                            0.0  0.0   \n276736                            0.0  0.0   \n276737                            0.0  0.0   \n276744                            0.0  0.0   \n...                               ...  ...   \n162107                            0.0  0.0   \n162109                            0.0  0.0   \n162113                            0.0  0.0   \n162121                            0.0  0.0   \n162129                            0.0  0.0   \n\nbook_title  'O Au No Keia: Voices from Hawai'I's Mahu and Transgender Communities  \\\n276726                                                    0.0                       \n276729                                                    0.0                       \n276736                                                    0.0                       \n276737                                                    0.0                       \n276744                                                    0.0                       \n...                                                       ...                       \n162107                                                    0.0                       \n162109                                                    0.0                       \n162113                                                    0.0                       \n162121                                                    0.0                       \n162129                                                    0.0                       \n\nbook_title  ...AND THE HORSE HE RODE IN ON : THE PEOPLE V. KENNETH STARR  \\\n276726                                                    0.0              \n276729                                                    0.0              \n276736                                                    0.0              \n276737                                                    0.0              \n276744                                                    0.0              \n...                                                       ...              \n162107                                                    0.0              \n162109                                                    0.0              \n162113                                                    0.0              \n162121                                                    0.0              \n162129                                                    0.0              \n\nbook_title  01-01-00: A Novel of the Millennium  \\\n276726                                      0.0   \n276729                                      0.0   \n276736                                      0.0   \n276737                                      0.0   \n276744                                      0.0   \n...                                         ...   \n162107                                      0.0   \n162109                                      0.0   \n162113                                      0.0   \n162121                                      0.0   \n162129                                      0.0   \n\nbook_title  1,401 More Things That P*Ss Me Off  10 Commandments Of Dating  \\\n276726                                     0.0                        0.0   \n276729                                     0.0                        0.0   \n276736                                     0.0                        0.0   \n276737                                     0.0                        0.0   \n276744                                     0.0                        0.0   \n...                                        ...                        ...   \n162107                                     0.0                        0.0   \n162109                                     0.0                        0.0   \n162113                                     0.0                        0.0   \n162121                                     0.0                        0.0   \n162129                                     0.0                        0.0   \n\nbook_title  100 Great Fantasy Short, Short Stories  ...  \\\n276726                                         0.0  ...   \n276729                                         0.0  ...   \n276736                                         0.0  ...   \n276737                                         0.0  ...   \n276744                                         0.0  ...   \n...                                            ...  ...   \n162107                                         0.0  ...   \n162109                                         0.0  ...   \n162113                                         0.0  ...   \n162121                                         0.0  ...   \n162129                                         0.0  ...   \n\nbook_title  Zora Hurston and the Chinaberry Tree (Reading Rainbow Book)  \\\n276726                                                    0.0             \n276729                                                    0.0             \n276736                                                    0.0             \n276737                                                    0.0             \n276744                                                    0.0             \n...                                                       ...             \n162107                                                    0.0             \n162109                                                    0.0             \n162113                                                    0.0             \n162121                                                    0.0             \n162129                                                    0.0             \n\nbook_title  \\Even Monkeys Fall from Trees\\ and Other Japanese Proverbs  \\\n276726                                                    0.0            \n276729                                                    0.0            \n276736                                                    0.0            \n276737                                                    0.0            \n276744                                                    0.0            \n...                                                       ...            \n162107                                                    0.0            \n162109                                                    0.0            \n162113                                                    0.0            \n162121                                                    0.0            \n162129                                                    0.0            \n\nbook_title  \\I Won't Learn from You\\: And Other Thoughts on Creative Maladjustment  \\\n276726                                                    0.0                        \n276729                                                    0.0                        \n276736                                                    0.0                        \n276737                                                    0.0                        \n276744                                                    0.0                        \n...                                                       ...                        \n162107                                                    0.0                        \n162109                                                    0.0                        \n162113                                                    0.0                        \n162121                                                    0.0                        \n162129                                                    0.0                        \n\nbook_title  \\More More More,\\ Said the Baby  \\O\\ Is for Outlaw  \\\n276726                                  0.0                0.0   \n276729                                  0.0                0.0   \n276736                                  0.0                0.0   \n276737                                  0.0                0.0   \n276744                                  0.0                0.0   \n...                                     ...                ...   \n162107                                  0.0                0.0   \n162109                                  0.0                0.0   \n162113                                  0.0                0.0   \n162121                                  0.0                0.0   \n162129                                  0.0                0.0   \n\nbook_title  \\Surely You're Joking, Mr. Feynman!\\: Adventures of a Curious Character  \\\n276726                                                    0.0                         \n276729                                                    0.0                         \n276736                                                    0.0                         \n276737                                                    0.0                         \n276744                                                    0.0                         \n...                                                       ...                         \n162107                                                    0.0                         \n162109                                                    0.0                         \n162113                                                    0.0                         \n162121                                                    0.0                         \n162129                                                    0.0                         \n\nbook_title  \\Well, there's your problem\\: Cartoons  iI Paradiso Degli Orchi  \\\n276726                                         0.0                      0.0   \n276729                                         0.0                      0.0   \n276736                                         0.0                      0.0   \n276737                                         0.0                      0.0   \n276744                                         0.0                      0.0   \n...                                            ...                      ...   \n162107                                         0.0                      0.0   \n162109                                         0.0                      0.0   \n162113                                         0.0                      7.0   \n162121                                         0.0                      0.0   \n162129                                         0.0                      0.0   \n\nbook_title  stardust  Ã?Â?bermorgen.  \n276726           0.0             0.0  \n276729           0.0             0.0  \n276736           0.0             0.0  \n276737           0.0             0.0  \n276744           0.0             0.0  \n...              ...             ...  \n162107           0.0             0.0  \n162109           0.0             0.0  \n162113           0.0             0.0  \n162121           0.0             0.0  \n162129           0.0             0.0  \n\n[2182 rows x 9659 columns]",
            "text/html": "<div>\n<style scoped>\n    .dataframe tbody tr th:only-of-type {\n        vertical-align: middle;\n    }\n\n    .dataframe tbody tr th {\n        vertical-align: top;\n    }\n\n    .dataframe thead th {\n        text-align: right;\n    }\n</style>\n<table border=\"1\" class=\"dataframe\">\n  <thead>\n    <tr style=\"text-align: right;\">\n      <th>book_title</th>\n      <th>Jason, Madison &amp;amp</th>\n      <th>Other Stories;Merril;1985;McClelland &amp;amp</th>\n      <th>Repairing PC Drives &amp;amp</th>\n      <th>'48</th>\n      <th>'O Au No Keia: Voices from Hawai'I's Mahu and Transgender Communities</th>\n      <th>...AND THE HORSE HE RODE IN ON : THE PEOPLE V. KENNETH STARR</th>\n      <th>01-01-00: A Novel of the Millennium</th>\n      <th>1,401 More Things That P*Ss Me Off</th>\n      <th>10 Commandments Of Dating</th>\n      <th>100 Great Fantasy Short, Short Stories</th>\n      <th>...</th>\n      <th>Zora Hurston and the Chinaberry Tree (Reading Rainbow Book)</th>\n      <th>\\Even Monkeys Fall from Trees\\ and Other Japanese Proverbs</th>\n      <th>\\I Won't Learn from You\\: And Other Thoughts on Creative Maladjustment</th>\n      <th>\\More More More,\\ Said the Baby</th>\n      <th>\\O\\ Is for Outlaw</th>\n      <th>\\Surely You're Joking, Mr. Feynman!\\: Adventures of a Curious Character</th>\n      <th>\\Well, there's your problem\\: Cartoons</th>\n      <th>iI Paradiso Degli Orchi</th>\n      <th>stardust</th>\n      <th>Ã?Â?bermorgen.</th>\n    </tr>\n  </thead>\n  <tbody>\n    <tr>\n      <th>276726</th>\n      <td>0.0</td>\n      <td>0.0</td>\n      <td>0.0</td>\n      <td>0.0</td>\n      <td>0.0</td>\n      <td>0.0</td>\n      <td>0.0</td>\n      <td>0.0</td>\n      <td>0.0</td>\n      <td>0.0</td>\n      <td>...</td>\n      <td>0.0</td>\n      <td>0.0</td>\n      <td>0.0</td>\n      <td>0.0</td>\n      <td>0.0</td>\n      <td>0.0</td>\n      <td>0.0</td>\n      <td>0.0</td>\n      <td>0.0</td>\n      <td>0.0</td>\n    </tr>\n    <tr>\n      <th>276729</th>\n      <td>0.0</td>\n      <td>0.0</td>\n      <td>0.0</td>\n      <td>0.0</td>\n      <td>0.0</td>\n      <td>0.0</td>\n      <td>0.0</td>\n      <td>0.0</td>\n      <td>0.0</td>\n      <td>0.0</td>\n      <td>...</td>\n      <td>0.0</td>\n      <td>0.0</td>\n      <td>0.0</td>\n      <td>0.0</td>\n      <td>0.0</td>\n      <td>0.0</td>\n      <td>0.0</td>\n      <td>0.0</td>\n      <td>0.0</td>\n      <td>0.0</td>\n    </tr>\n    <tr>\n      <th>276736</th>\n      <td>0.0</td>\n      <td>0.0</td>\n      <td>0.0</td>\n      <td>0.0</td>\n      <td>0.0</td>\n      <td>0.0</td>\n      <td>0.0</td>\n      <td>0.0</td>\n      <td>0.0</td>\n      <td>0.0</td>\n      <td>...</td>\n      <td>0.0</td>\n      <td>0.0</td>\n      <td>0.0</td>\n      <td>0.0</td>\n      <td>0.0</td>\n      <td>0.0</td>\n      <td>0.0</td>\n      <td>0.0</td>\n      <td>0.0</td>\n      <td>0.0</td>\n    </tr>\n    <tr>\n      <th>276737</th>\n      <td>0.0</td>\n      <td>0.0</td>\n      <td>0.0</td>\n      <td>0.0</td>\n      <td>0.0</td>\n      <td>0.0</td>\n      <td>0.0</td>\n      <td>0.0</td>\n      <td>0.0</td>\n      <td>0.0</td>\n      <td>...</td>\n      <td>0.0</td>\n      <td>0.0</td>\n      <td>0.0</td>\n      <td>0.0</td>\n      <td>0.0</td>\n      <td>0.0</td>\n      <td>0.0</td>\n      <td>0.0</td>\n      <td>0.0</td>\n      <td>0.0</td>\n    </tr>\n    <tr>\n      <th>276744</th>\n      <td>0.0</td>\n      <td>0.0</td>\n      <td>0.0</td>\n      <td>0.0</td>\n      <td>0.0</td>\n      <td>0.0</td>\n      <td>0.0</td>\n      <td>0.0</td>\n      <td>0.0</td>\n      <td>0.0</td>\n      <td>...</td>\n      <td>0.0</td>\n      <td>0.0</td>\n      <td>0.0</td>\n      <td>0.0</td>\n      <td>0.0</td>\n      <td>0.0</td>\n      <td>0.0</td>\n      <td>0.0</td>\n      <td>0.0</td>\n      <td>0.0</td>\n    </tr>\n    <tr>\n      <th>...</th>\n      <td>...</td>\n      <td>...</td>\n      <td>...</td>\n      <td>...</td>\n      <td>...</td>\n      <td>...</td>\n      <td>...</td>\n      <td>...</td>\n      <td>...</td>\n      <td>...</td>\n      <td>...</td>\n      <td>...</td>\n      <td>...</td>\n      <td>...</td>\n      <td>...</td>\n      <td>...</td>\n      <td>...</td>\n      <td>...</td>\n      <td>...</td>\n      <td>...</td>\n      <td>...</td>\n    </tr>\n    <tr>\n      <th>162107</th>\n      <td>0.0</td>\n      <td>0.0</td>\n      <td>0.0</td>\n      <td>0.0</td>\n      <td>0.0</td>\n      <td>0.0</td>\n      <td>0.0</td>\n      <td>0.0</td>\n      <td>0.0</td>\n      <td>0.0</td>\n      <td>...</td>\n      <td>0.0</td>\n      <td>0.0</td>\n      <td>0.0</td>\n      <td>0.0</td>\n      <td>0.0</td>\n      <td>0.0</td>\n      <td>0.0</td>\n      <td>0.0</td>\n      <td>0.0</td>\n      <td>0.0</td>\n    </tr>\n    <tr>\n      <th>162109</th>\n      <td>0.0</td>\n      <td>0.0</td>\n      <td>0.0</td>\n      <td>0.0</td>\n      <td>0.0</td>\n      <td>0.0</td>\n      <td>0.0</td>\n      <td>0.0</td>\n      <td>0.0</td>\n      <td>0.0</td>\n      <td>...</td>\n      <td>0.0</td>\n      <td>0.0</td>\n      <td>0.0</td>\n      <td>0.0</td>\n      <td>0.0</td>\n      <td>0.0</td>\n      <td>0.0</td>\n      <td>0.0</td>\n      <td>0.0</td>\n      <td>0.0</td>\n    </tr>\n    <tr>\n      <th>162113</th>\n      <td>0.0</td>\n      <td>0.0</td>\n      <td>0.0</td>\n      <td>0.0</td>\n      <td>0.0</td>\n      <td>0.0</td>\n      <td>0.0</td>\n      <td>0.0</td>\n      <td>0.0</td>\n      <td>0.0</td>\n      <td>...</td>\n      <td>0.0</td>\n      <td>0.0</td>\n      <td>0.0</td>\n      <td>0.0</td>\n      <td>0.0</td>\n      <td>0.0</td>\n      <td>0.0</td>\n      <td>7.0</td>\n      <td>0.0</td>\n      <td>0.0</td>\n    </tr>\n    <tr>\n      <th>162121</th>\n      <td>0.0</td>\n      <td>0.0</td>\n      <td>0.0</td>\n      <td>0.0</td>\n      <td>0.0</td>\n      <td>0.0</td>\n      <td>0.0</td>\n      <td>0.0</td>\n      <td>0.0</td>\n      <td>0.0</td>\n      <td>...</td>\n      <td>0.0</td>\n      <td>0.0</td>\n      <td>0.0</td>\n      <td>0.0</td>\n      <td>0.0</td>\n      <td>0.0</td>\n      <td>0.0</td>\n      <td>0.0</td>\n      <td>0.0</td>\n      <td>0.0</td>\n    </tr>\n    <tr>\n      <th>162129</th>\n      <td>0.0</td>\n      <td>0.0</td>\n      <td>0.0</td>\n      <td>0.0</td>\n      <td>0.0</td>\n      <td>0.0</td>\n      <td>0.0</td>\n      <td>0.0</td>\n      <td>0.0</td>\n      <td>0.0</td>\n      <td>...</td>\n      <td>0.0</td>\n      <td>0.0</td>\n      <td>0.0</td>\n      <td>0.0</td>\n      <td>0.0</td>\n      <td>0.0</td>\n      <td>0.0</td>\n      <td>0.0</td>\n      <td>0.0</td>\n      <td>0.0</td>\n    </tr>\n  </tbody>\n</table>\n<p>2182 rows × 9659 columns</p>\n</div>"
          },
          "metadata": {}
        }
      ]
    },
    {
      "metadata": {
        "trusted": true
      },
      "cell_type": "code",
      "source": "from sklearn.metrics import pairwise_distances\nfrom scipy.spatial.distance import cosine,correlation",
      "execution_count": 19,
      "outputs": []
    },
    {
      "metadata": {
        "trusted": true
      },
      "cell_type": "code",
      "source": "user_sim=1-pairwise_distances(books.values,metric='cosine')",
      "execution_count": 20,
      "outputs": []
    },
    {
      "metadata": {
        "trusted": true
      },
      "cell_type": "code",
      "source": "user_sim_df=pd.DataFrame(user_sim)",
      "execution_count": 21,
      "outputs": []
    },
    {
      "metadata": {
        "trusted": true
      },
      "cell_type": "code",
      "source": "user_sim_df",
      "execution_count": 22,
      "outputs": [
        {
          "output_type": "execute_result",
          "execution_count": 22,
          "data": {
            "text/plain": "      0     1     2     3     4     5     6     7     8     9     ...  2172  \\\n0      1.0   0.0   0.0   0.0   0.0   0.0   0.0   0.0   0.0   0.0  ...   0.0   \n1      0.0   1.0   0.0   0.0   0.0   0.0   0.0   0.0   0.0   0.0  ...   0.0   \n2      0.0   0.0   1.0   0.0   0.0   0.0   0.0   0.0   0.0   0.0  ...   0.0   \n3      0.0   0.0   0.0   1.0   0.0   0.0   0.0   0.0   0.0   0.0  ...   0.0   \n4      0.0   0.0   0.0   0.0   1.0   0.0   0.0   0.0   0.0   0.0  ...   0.0   \n...    ...   ...   ...   ...   ...   ...   ...   ...   ...   ...  ...   ...   \n2177   0.0   0.0   0.0   0.0   0.0   0.0   0.0   0.0   0.0   0.0  ...   0.0   \n2178   0.0   0.0   0.0   0.0   0.0   0.0   0.0   0.0   0.0   0.0  ...   0.0   \n2179   0.0   0.0   0.0   0.0   0.0   0.0   0.0   0.0   0.0   0.0  ...   0.0   \n2180   0.0   0.0   0.0   0.0   0.0   0.0   0.0   0.0   0.0   0.0  ...   0.0   \n2181   0.0   0.0   0.0   0.0   0.0   0.0   0.0   0.0   0.0   0.0  ...   0.0   \n\n      2173  2174  2175  2176  2177  2178  2179  2180  2181  \n0      0.0   0.0   0.0   0.0   0.0   0.0   0.0   0.0   0.0  \n1      0.0   0.0   0.0   0.0   0.0   0.0   0.0   0.0   0.0  \n2      0.0   0.0   0.0   0.0   0.0   0.0   0.0   0.0   0.0  \n3      0.0   0.0   0.0   0.0   0.0   0.0   0.0   0.0   0.0  \n4      0.0   0.0   0.0   0.0   0.0   0.0   0.0   0.0   0.0  \n...    ...   ...   ...   ...   ...   ...   ...   ...   ...  \n2177   0.0   0.0   0.0   0.0   1.0   0.0   0.0   0.0   0.0  \n2178   0.0   0.0   0.0   0.0   0.0   1.0   0.0   0.0   0.0  \n2179   0.0   0.0   0.0   0.0   0.0   0.0   1.0   0.0   0.0  \n2180   0.0   0.0   0.0   0.0   0.0   0.0   0.0   1.0   0.0  \n2181   0.0   0.0   0.0   0.0   0.0   0.0   0.0   0.0   1.0  \n\n[2182 rows x 2182 columns]",
            "text/html": "<div>\n<style scoped>\n    .dataframe tbody tr th:only-of-type {\n        vertical-align: middle;\n    }\n\n    .dataframe tbody tr th {\n        vertical-align: top;\n    }\n\n    .dataframe thead th {\n        text-align: right;\n    }\n</style>\n<table border=\"1\" class=\"dataframe\">\n  <thead>\n    <tr style=\"text-align: right;\">\n      <th></th>\n      <th>0</th>\n      <th>1</th>\n      <th>2</th>\n      <th>3</th>\n      <th>4</th>\n      <th>5</th>\n      <th>6</th>\n      <th>7</th>\n      <th>8</th>\n      <th>9</th>\n      <th>...</th>\n      <th>2172</th>\n      <th>2173</th>\n      <th>2174</th>\n      <th>2175</th>\n      <th>2176</th>\n      <th>2177</th>\n      <th>2178</th>\n      <th>2179</th>\n      <th>2180</th>\n      <th>2181</th>\n    </tr>\n  </thead>\n  <tbody>\n    <tr>\n      <th>0</th>\n      <td>1.0</td>\n      <td>0.0</td>\n      <td>0.0</td>\n      <td>0.0</td>\n      <td>0.0</td>\n      <td>0.0</td>\n      <td>0.0</td>\n      <td>0.0</td>\n      <td>0.0</td>\n      <td>0.0</td>\n      <td>...</td>\n      <td>0.0</td>\n      <td>0.0</td>\n      <td>0.0</td>\n      <td>0.0</td>\n      <td>0.0</td>\n      <td>0.0</td>\n      <td>0.0</td>\n      <td>0.0</td>\n      <td>0.0</td>\n      <td>0.0</td>\n    </tr>\n    <tr>\n      <th>1</th>\n      <td>0.0</td>\n      <td>1.0</td>\n      <td>0.0</td>\n      <td>0.0</td>\n      <td>0.0</td>\n      <td>0.0</td>\n      <td>0.0</td>\n      <td>0.0</td>\n      <td>0.0</td>\n      <td>0.0</td>\n      <td>...</td>\n      <td>0.0</td>\n      <td>0.0</td>\n      <td>0.0</td>\n      <td>0.0</td>\n      <td>0.0</td>\n      <td>0.0</td>\n      <td>0.0</td>\n      <td>0.0</td>\n      <td>0.0</td>\n      <td>0.0</td>\n    </tr>\n    <tr>\n      <th>2</th>\n      <td>0.0</td>\n      <td>0.0</td>\n      <td>1.0</td>\n      <td>0.0</td>\n      <td>0.0</td>\n      <td>0.0</td>\n      <td>0.0</td>\n      <td>0.0</td>\n      <td>0.0</td>\n      <td>0.0</td>\n      <td>...</td>\n      <td>0.0</td>\n      <td>0.0</td>\n      <td>0.0</td>\n      <td>0.0</td>\n      <td>0.0</td>\n      <td>0.0</td>\n      <td>0.0</td>\n      <td>0.0</td>\n      <td>0.0</td>\n      <td>0.0</td>\n    </tr>\n    <tr>\n      <th>3</th>\n      <td>0.0</td>\n      <td>0.0</td>\n      <td>0.0</td>\n      <td>1.0</td>\n      <td>0.0</td>\n      <td>0.0</td>\n      <td>0.0</td>\n      <td>0.0</td>\n      <td>0.0</td>\n      <td>0.0</td>\n      <td>...</td>\n      <td>0.0</td>\n      <td>0.0</td>\n      <td>0.0</td>\n      <td>0.0</td>\n      <td>0.0</td>\n      <td>0.0</td>\n      <td>0.0</td>\n      <td>0.0</td>\n      <td>0.0</td>\n      <td>0.0</td>\n    </tr>\n    <tr>\n      <th>4</th>\n      <td>0.0</td>\n      <td>0.0</td>\n      <td>0.0</td>\n      <td>0.0</td>\n      <td>1.0</td>\n      <td>0.0</td>\n      <td>0.0</td>\n      <td>0.0</td>\n      <td>0.0</td>\n      <td>0.0</td>\n      <td>...</td>\n      <td>0.0</td>\n      <td>0.0</td>\n      <td>0.0</td>\n      <td>0.0</td>\n      <td>0.0</td>\n      <td>0.0</td>\n      <td>0.0</td>\n      <td>0.0</td>\n      <td>0.0</td>\n      <td>0.0</td>\n    </tr>\n    <tr>\n      <th>...</th>\n      <td>...</td>\n      <td>...</td>\n      <td>...</td>\n      <td>...</td>\n      <td>...</td>\n      <td>...</td>\n      <td>...</td>\n      <td>...</td>\n      <td>...</td>\n      <td>...</td>\n      <td>...</td>\n      <td>...</td>\n      <td>...</td>\n      <td>...</td>\n      <td>...</td>\n      <td>...</td>\n      <td>...</td>\n      <td>...</td>\n      <td>...</td>\n      <td>...</td>\n      <td>...</td>\n    </tr>\n    <tr>\n      <th>2177</th>\n      <td>0.0</td>\n      <td>0.0</td>\n      <td>0.0</td>\n      <td>0.0</td>\n      <td>0.0</td>\n      <td>0.0</td>\n      <td>0.0</td>\n      <td>0.0</td>\n      <td>0.0</td>\n      <td>0.0</td>\n      <td>...</td>\n      <td>0.0</td>\n      <td>0.0</td>\n      <td>0.0</td>\n      <td>0.0</td>\n      <td>0.0</td>\n      <td>1.0</td>\n      <td>0.0</td>\n      <td>0.0</td>\n      <td>0.0</td>\n      <td>0.0</td>\n    </tr>\n    <tr>\n      <th>2178</th>\n      <td>0.0</td>\n      <td>0.0</td>\n      <td>0.0</td>\n      <td>0.0</td>\n      <td>0.0</td>\n      <td>0.0</td>\n      <td>0.0</td>\n      <td>0.0</td>\n      <td>0.0</td>\n      <td>0.0</td>\n      <td>...</td>\n      <td>0.0</td>\n      <td>0.0</td>\n      <td>0.0</td>\n      <td>0.0</td>\n      <td>0.0</td>\n      <td>0.0</td>\n      <td>1.0</td>\n      <td>0.0</td>\n      <td>0.0</td>\n      <td>0.0</td>\n    </tr>\n    <tr>\n      <th>2179</th>\n      <td>0.0</td>\n      <td>0.0</td>\n      <td>0.0</td>\n      <td>0.0</td>\n      <td>0.0</td>\n      <td>0.0</td>\n      <td>0.0</td>\n      <td>0.0</td>\n      <td>0.0</td>\n      <td>0.0</td>\n      <td>...</td>\n      <td>0.0</td>\n      <td>0.0</td>\n      <td>0.0</td>\n      <td>0.0</td>\n      <td>0.0</td>\n      <td>0.0</td>\n      <td>0.0</td>\n      <td>1.0</td>\n      <td>0.0</td>\n      <td>0.0</td>\n    </tr>\n    <tr>\n      <th>2180</th>\n      <td>0.0</td>\n      <td>0.0</td>\n      <td>0.0</td>\n      <td>0.0</td>\n      <td>0.0</td>\n      <td>0.0</td>\n      <td>0.0</td>\n      <td>0.0</td>\n      <td>0.0</td>\n      <td>0.0</td>\n      <td>...</td>\n      <td>0.0</td>\n      <td>0.0</td>\n      <td>0.0</td>\n      <td>0.0</td>\n      <td>0.0</td>\n      <td>0.0</td>\n      <td>0.0</td>\n      <td>0.0</td>\n      <td>1.0</td>\n      <td>0.0</td>\n    </tr>\n    <tr>\n      <th>2181</th>\n      <td>0.0</td>\n      <td>0.0</td>\n      <td>0.0</td>\n      <td>0.0</td>\n      <td>0.0</td>\n      <td>0.0</td>\n      <td>0.0</td>\n      <td>0.0</td>\n      <td>0.0</td>\n      <td>0.0</td>\n      <td>...</td>\n      <td>0.0</td>\n      <td>0.0</td>\n      <td>0.0</td>\n      <td>0.0</td>\n      <td>0.0</td>\n      <td>0.0</td>\n      <td>0.0</td>\n      <td>0.0</td>\n      <td>0.0</td>\n      <td>1.0</td>\n    </tr>\n  </tbody>\n</table>\n<p>2182 rows × 2182 columns</p>\n</div>"
          },
          "metadata": {}
        }
      ]
    },
    {
      "metadata": {
        "trusted": true
      },
      "cell_type": "code",
      "source": "user_sim_df.index=df['User.ID'].unique()",
      "execution_count": 23,
      "outputs": []
    },
    {
      "metadata": {
        "trusted": true
      },
      "cell_type": "code",
      "source": "user_sim_df.columns=df['User.ID'].unique()",
      "execution_count": 24,
      "outputs": []
    },
    {
      "metadata": {
        "trusted": true
      },
      "cell_type": "code",
      "source": "user_sim_df.iloc[0:5,0:5]",
      "execution_count": 25,
      "outputs": [
        {
          "output_type": "execute_result",
          "execution_count": 25,
          "data": {
            "text/plain": "        276726  276729  276736  276737  276744\n276726     1.0     0.0     0.0     0.0     0.0\n276729     0.0     1.0     0.0     0.0     0.0\n276736     0.0     0.0     1.0     0.0     0.0\n276737     0.0     0.0     0.0     1.0     0.0\n276744     0.0     0.0     0.0     0.0     1.0",
            "text/html": "<div>\n<style scoped>\n    .dataframe tbody tr th:only-of-type {\n        vertical-align: middle;\n    }\n\n    .dataframe tbody tr th {\n        vertical-align: top;\n    }\n\n    .dataframe thead th {\n        text-align: right;\n    }\n</style>\n<table border=\"1\" class=\"dataframe\">\n  <thead>\n    <tr style=\"text-align: right;\">\n      <th></th>\n      <th>276726</th>\n      <th>276729</th>\n      <th>276736</th>\n      <th>276737</th>\n      <th>276744</th>\n    </tr>\n  </thead>\n  <tbody>\n    <tr>\n      <th>276726</th>\n      <td>1.0</td>\n      <td>0.0</td>\n      <td>0.0</td>\n      <td>0.0</td>\n      <td>0.0</td>\n    </tr>\n    <tr>\n      <th>276729</th>\n      <td>0.0</td>\n      <td>1.0</td>\n      <td>0.0</td>\n      <td>0.0</td>\n      <td>0.0</td>\n    </tr>\n    <tr>\n      <th>276736</th>\n      <td>0.0</td>\n      <td>0.0</td>\n      <td>1.0</td>\n      <td>0.0</td>\n      <td>0.0</td>\n    </tr>\n    <tr>\n      <th>276737</th>\n      <td>0.0</td>\n      <td>0.0</td>\n      <td>0.0</td>\n      <td>1.0</td>\n      <td>0.0</td>\n    </tr>\n    <tr>\n      <th>276744</th>\n      <td>0.0</td>\n      <td>0.0</td>\n      <td>0.0</td>\n      <td>0.0</td>\n      <td>1.0</td>\n    </tr>\n  </tbody>\n</table>\n</div>"
          },
          "metadata": {}
        }
      ]
    },
    {
      "metadata": {
        "trusted": true
      },
      "cell_type": "code",
      "source": "np.fill_diagonal(user_sim,0)",
      "execution_count": 26,
      "outputs": []
    },
    {
      "metadata": {
        "trusted": true
      },
      "cell_type": "code",
      "source": "user_sim_df",
      "execution_count": 27,
      "outputs": [
        {
          "output_type": "execute_result",
          "execution_count": 27,
          "data": {
            "text/plain": "        276726  276729  276736  276737  276744  276745  276747  276748  \\\n276726     0.0     0.0     0.0     0.0     0.0     0.0     0.0     0.0   \n276729     0.0     0.0     0.0     0.0     0.0     0.0     0.0     0.0   \n276736     0.0     0.0     0.0     0.0     0.0     0.0     0.0     0.0   \n276737     0.0     0.0     0.0     0.0     0.0     0.0     0.0     0.0   \n276744     0.0     0.0     0.0     0.0     0.0     0.0     0.0     0.0   \n...        ...     ...     ...     ...     ...     ...     ...     ...   \n162107     0.0     0.0     0.0     0.0     0.0     0.0     0.0     0.0   \n162109     0.0     0.0     0.0     0.0     0.0     0.0     0.0     0.0   \n162113     0.0     0.0     0.0     0.0     0.0     0.0     0.0     0.0   \n162121     0.0     0.0     0.0     0.0     0.0     0.0     0.0     0.0   \n162129     0.0     0.0     0.0     0.0     0.0     0.0     0.0     0.0   \n\n        276751  276754  ...  162085  162091  162092  162095  162103  162107  \\\n276726     0.0     0.0  ...     0.0     0.0     0.0     0.0     0.0     0.0   \n276729     0.0     0.0  ...     0.0     0.0     0.0     0.0     0.0     0.0   \n276736     0.0     0.0  ...     0.0     0.0     0.0     0.0     0.0     0.0   \n276737     0.0     0.0  ...     0.0     0.0     0.0     0.0     0.0     0.0   \n276744     0.0     0.0  ...     0.0     0.0     0.0     0.0     0.0     0.0   \n...        ...     ...  ...     ...     ...     ...     ...     ...     ...   \n162107     0.0     0.0  ...     0.0     0.0     0.0     0.0     0.0     0.0   \n162109     0.0     0.0  ...     0.0     0.0     0.0     0.0     0.0     0.0   \n162113     0.0     0.0  ...     0.0     0.0     0.0     0.0     0.0     0.0   \n162121     0.0     0.0  ...     0.0     0.0     0.0     0.0     0.0     0.0   \n162129     0.0     0.0  ...     0.0     0.0     0.0     0.0     0.0     0.0   \n\n        162109  162113  162121  162129  \n276726     0.0     0.0     0.0     0.0  \n276729     0.0     0.0     0.0     0.0  \n276736     0.0     0.0     0.0     0.0  \n276737     0.0     0.0     0.0     0.0  \n276744     0.0     0.0     0.0     0.0  \n...        ...     ...     ...     ...  \n162107     0.0     0.0     0.0     0.0  \n162109     0.0     0.0     0.0     0.0  \n162113     0.0     0.0     0.0     0.0  \n162121     0.0     0.0     0.0     0.0  \n162129     0.0     0.0     0.0     0.0  \n\n[2182 rows x 2182 columns]",
            "text/html": "<div>\n<style scoped>\n    .dataframe tbody tr th:only-of-type {\n        vertical-align: middle;\n    }\n\n    .dataframe tbody tr th {\n        vertical-align: top;\n    }\n\n    .dataframe thead th {\n        text-align: right;\n    }\n</style>\n<table border=\"1\" class=\"dataframe\">\n  <thead>\n    <tr style=\"text-align: right;\">\n      <th></th>\n      <th>276726</th>\n      <th>276729</th>\n      <th>276736</th>\n      <th>276737</th>\n      <th>276744</th>\n      <th>276745</th>\n      <th>276747</th>\n      <th>276748</th>\n      <th>276751</th>\n      <th>276754</th>\n      <th>...</th>\n      <th>162085</th>\n      <th>162091</th>\n      <th>162092</th>\n      <th>162095</th>\n      <th>162103</th>\n      <th>162107</th>\n      <th>162109</th>\n      <th>162113</th>\n      <th>162121</th>\n      <th>162129</th>\n    </tr>\n  </thead>\n  <tbody>\n    <tr>\n      <th>276726</th>\n      <td>0.0</td>\n      <td>0.0</td>\n      <td>0.0</td>\n      <td>0.0</td>\n      <td>0.0</td>\n      <td>0.0</td>\n      <td>0.0</td>\n      <td>0.0</td>\n      <td>0.0</td>\n      <td>0.0</td>\n      <td>...</td>\n      <td>0.0</td>\n      <td>0.0</td>\n      <td>0.0</td>\n      <td>0.0</td>\n      <td>0.0</td>\n      <td>0.0</td>\n      <td>0.0</td>\n      <td>0.0</td>\n      <td>0.0</td>\n      <td>0.0</td>\n    </tr>\n    <tr>\n      <th>276729</th>\n      <td>0.0</td>\n      <td>0.0</td>\n      <td>0.0</td>\n      <td>0.0</td>\n      <td>0.0</td>\n      <td>0.0</td>\n      <td>0.0</td>\n      <td>0.0</td>\n      <td>0.0</td>\n      <td>0.0</td>\n      <td>...</td>\n      <td>0.0</td>\n      <td>0.0</td>\n      <td>0.0</td>\n      <td>0.0</td>\n      <td>0.0</td>\n      <td>0.0</td>\n      <td>0.0</td>\n      <td>0.0</td>\n      <td>0.0</td>\n      <td>0.0</td>\n    </tr>\n    <tr>\n      <th>276736</th>\n      <td>0.0</td>\n      <td>0.0</td>\n      <td>0.0</td>\n      <td>0.0</td>\n      <td>0.0</td>\n      <td>0.0</td>\n      <td>0.0</td>\n      <td>0.0</td>\n      <td>0.0</td>\n      <td>0.0</td>\n      <td>...</td>\n      <td>0.0</td>\n      <td>0.0</td>\n      <td>0.0</td>\n      <td>0.0</td>\n      <td>0.0</td>\n      <td>0.0</td>\n      <td>0.0</td>\n      <td>0.0</td>\n      <td>0.0</td>\n      <td>0.0</td>\n    </tr>\n    <tr>\n      <th>276737</th>\n      <td>0.0</td>\n      <td>0.0</td>\n      <td>0.0</td>\n      <td>0.0</td>\n      <td>0.0</td>\n      <td>0.0</td>\n      <td>0.0</td>\n      <td>0.0</td>\n      <td>0.0</td>\n      <td>0.0</td>\n      <td>...</td>\n      <td>0.0</td>\n      <td>0.0</td>\n      <td>0.0</td>\n      <td>0.0</td>\n      <td>0.0</td>\n      <td>0.0</td>\n      <td>0.0</td>\n      <td>0.0</td>\n      <td>0.0</td>\n      <td>0.0</td>\n    </tr>\n    <tr>\n      <th>276744</th>\n      <td>0.0</td>\n      <td>0.0</td>\n      <td>0.0</td>\n      <td>0.0</td>\n      <td>0.0</td>\n      <td>0.0</td>\n      <td>0.0</td>\n      <td>0.0</td>\n      <td>0.0</td>\n      <td>0.0</td>\n      <td>...</td>\n      <td>0.0</td>\n      <td>0.0</td>\n      <td>0.0</td>\n      <td>0.0</td>\n      <td>0.0</td>\n      <td>0.0</td>\n      <td>0.0</td>\n      <td>0.0</td>\n      <td>0.0</td>\n      <td>0.0</td>\n    </tr>\n    <tr>\n      <th>...</th>\n      <td>...</td>\n      <td>...</td>\n      <td>...</td>\n      <td>...</td>\n      <td>...</td>\n      <td>...</td>\n      <td>...</td>\n      <td>...</td>\n      <td>...</td>\n      <td>...</td>\n      <td>...</td>\n      <td>...</td>\n      <td>...</td>\n      <td>...</td>\n      <td>...</td>\n      <td>...</td>\n      <td>...</td>\n      <td>...</td>\n      <td>...</td>\n      <td>...</td>\n      <td>...</td>\n    </tr>\n    <tr>\n      <th>162107</th>\n      <td>0.0</td>\n      <td>0.0</td>\n      <td>0.0</td>\n      <td>0.0</td>\n      <td>0.0</td>\n      <td>0.0</td>\n      <td>0.0</td>\n      <td>0.0</td>\n      <td>0.0</td>\n      <td>0.0</td>\n      <td>...</td>\n      <td>0.0</td>\n      <td>0.0</td>\n      <td>0.0</td>\n      <td>0.0</td>\n      <td>0.0</td>\n      <td>0.0</td>\n      <td>0.0</td>\n      <td>0.0</td>\n      <td>0.0</td>\n      <td>0.0</td>\n    </tr>\n    <tr>\n      <th>162109</th>\n      <td>0.0</td>\n      <td>0.0</td>\n      <td>0.0</td>\n      <td>0.0</td>\n      <td>0.0</td>\n      <td>0.0</td>\n      <td>0.0</td>\n      <td>0.0</td>\n      <td>0.0</td>\n      <td>0.0</td>\n      <td>...</td>\n      <td>0.0</td>\n      <td>0.0</td>\n      <td>0.0</td>\n      <td>0.0</td>\n      <td>0.0</td>\n      <td>0.0</td>\n      <td>0.0</td>\n      <td>0.0</td>\n      <td>0.0</td>\n      <td>0.0</td>\n    </tr>\n    <tr>\n      <th>162113</th>\n      <td>0.0</td>\n      <td>0.0</td>\n      <td>0.0</td>\n      <td>0.0</td>\n      <td>0.0</td>\n      <td>0.0</td>\n      <td>0.0</td>\n      <td>0.0</td>\n      <td>0.0</td>\n      <td>0.0</td>\n      <td>...</td>\n      <td>0.0</td>\n      <td>0.0</td>\n      <td>0.0</td>\n      <td>0.0</td>\n      <td>0.0</td>\n      <td>0.0</td>\n      <td>0.0</td>\n      <td>0.0</td>\n      <td>0.0</td>\n      <td>0.0</td>\n    </tr>\n    <tr>\n      <th>162121</th>\n      <td>0.0</td>\n      <td>0.0</td>\n      <td>0.0</td>\n      <td>0.0</td>\n      <td>0.0</td>\n      <td>0.0</td>\n      <td>0.0</td>\n      <td>0.0</td>\n      <td>0.0</td>\n      <td>0.0</td>\n      <td>...</td>\n      <td>0.0</td>\n      <td>0.0</td>\n      <td>0.0</td>\n      <td>0.0</td>\n      <td>0.0</td>\n      <td>0.0</td>\n      <td>0.0</td>\n      <td>0.0</td>\n      <td>0.0</td>\n      <td>0.0</td>\n    </tr>\n    <tr>\n      <th>162129</th>\n      <td>0.0</td>\n      <td>0.0</td>\n      <td>0.0</td>\n      <td>0.0</td>\n      <td>0.0</td>\n      <td>0.0</td>\n      <td>0.0</td>\n      <td>0.0</td>\n      <td>0.0</td>\n      <td>0.0</td>\n      <td>...</td>\n      <td>0.0</td>\n      <td>0.0</td>\n      <td>0.0</td>\n      <td>0.0</td>\n      <td>0.0</td>\n      <td>0.0</td>\n      <td>0.0</td>\n      <td>0.0</td>\n      <td>0.0</td>\n      <td>0.0</td>\n    </tr>\n  </tbody>\n</table>\n<p>2182 rows × 2182 columns</p>\n</div>"
          },
          "metadata": {}
        }
      ]
    },
    {
      "metadata": {
        "trusted": true
      },
      "cell_type": "code",
      "source": "user_sim_df.idxmax(axis=1)",
      "execution_count": 28,
      "outputs": [
        {
          "output_type": "execute_result",
          "execution_count": 28,
          "data": {
            "text/plain": "276726    276726\n276729    276726\n276736    276726\n276737    276726\n276744    276726\n           ...  \n162107    276726\n162109    276726\n162113    161453\n162121    276726\n162129    276726\nLength: 2182, dtype: int64"
          },
          "metadata": {}
        }
      ]
    },
    {
      "metadata": {
        "trusted": false
      },
      "cell_type": "code",
      "source": "",
      "execution_count": null,
      "outputs": []
    }
  ],
  "metadata": {
    "kernelspec": {
      "name": "python3",
      "display_name": "Python 3",
      "language": "python"
    },
    "language_info": {
      "name": "python",
      "version": "3.8.5",
      "mimetype": "text/x-python",
      "codemirror_mode": {
        "name": "ipython",
        "version": 3
      },
      "pygments_lexer": "ipython3",
      "nbconvert_exporter": "python",
      "file_extension": ".py"
    },
    "gist": {
      "id": "",
      "data": {
        "description": "recomandation assigment.ipynb",
        "public": true
      }
    }
  },
  "nbformat": 4,
  "nbformat_minor": 4
}