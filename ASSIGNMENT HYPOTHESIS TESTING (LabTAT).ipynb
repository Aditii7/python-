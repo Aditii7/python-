{
  "cells": [
    {
      "metadata": {
        "trusted": true
      },
      "cell_type": "code",
      "source": "import pandas as pd\nfrom scipy import stats ",
      "execution_count": 1,
      "outputs": []
    },
    {
      "metadata": {
        "trusted": true
      },
      "cell_type": "code",
      "source": "df = pd.read_csv(\"LabTAT.csv\")",
      "execution_count": 3,
      "outputs": []
    },
    {
      "metadata": {
        "trusted": true
      },
      "cell_type": "code",
      "source": "df.head()",
      "execution_count": 4,
      "outputs": [
        {
          "output_type": "execute_result",
          "execution_count": 4,
          "data": {
            "text/plain": "   Laboratory 1  Laboratory 2  Laboratory 3  Laboratory 4\n0        185.35        165.53        176.70        166.13\n1        170.49        185.91        198.45        160.79\n2        192.77        194.92        201.23        185.18\n3        177.33        183.00        199.61        176.42\n4        193.41        169.57        204.63        152.60",
            "text/html": "<div>\n<style scoped>\n    .dataframe tbody tr th:only-of-type {\n        vertical-align: middle;\n    }\n\n    .dataframe tbody tr th {\n        vertical-align: top;\n    }\n\n    .dataframe thead th {\n        text-align: right;\n    }\n</style>\n<table border=\"1\" class=\"dataframe\">\n  <thead>\n    <tr style=\"text-align: right;\">\n      <th></th>\n      <th>Laboratory 1</th>\n      <th>Laboratory 2</th>\n      <th>Laboratory 3</th>\n      <th>Laboratory 4</th>\n    </tr>\n  </thead>\n  <tbody>\n    <tr>\n      <th>0</th>\n      <td>185.35</td>\n      <td>165.53</td>\n      <td>176.70</td>\n      <td>166.13</td>\n    </tr>\n    <tr>\n      <th>1</th>\n      <td>170.49</td>\n      <td>185.91</td>\n      <td>198.45</td>\n      <td>160.79</td>\n    </tr>\n    <tr>\n      <th>2</th>\n      <td>192.77</td>\n      <td>194.92</td>\n      <td>201.23</td>\n      <td>185.18</td>\n    </tr>\n    <tr>\n      <th>3</th>\n      <td>177.33</td>\n      <td>183.00</td>\n      <td>199.61</td>\n      <td>176.42</td>\n    </tr>\n    <tr>\n      <th>4</th>\n      <td>193.41</td>\n      <td>169.57</td>\n      <td>204.63</td>\n      <td>152.60</td>\n    </tr>\n  </tbody>\n</table>\n</div>"
          },
          "metadata": {}
        }
      ]
    },
    {
      "metadata": {
        "trusted": true
      },
      "cell_type": "code",
      "source": "w,pvalue = stats.bartlett(df['Laboratory 1'],df['Laboratory 2'],df['Laboratory 3'],df['Laboratory 4'])\n\nif pvalue > 0.05:\n    print('Accept Null Hypothesis, P value: ',pvalue)\nelse:\n    print('Go for Alternative Hypothesis, P value: ', pvalue)",
      "execution_count": 5,
      "outputs": [
        {
          "output_type": "stream",
          "text": "Accept Null Hypothesis, P value:  0.10686741658107135\n",
          "name": "stdout"
        }
      ]
    },
    {
      "metadata": {
        "trusted": false
      },
      "cell_type": "code",
      "source": "",
      "execution_count": null,
      "outputs": []
    }
  ],
  "metadata": {
    "kernelspec": {
      "name": "python3",
      "display_name": "Python 3",
      "language": "python"
    },
    "language_info": {
      "name": "python",
      "version": "3.8.5",
      "mimetype": "text/x-python",
      "codemirror_mode": {
        "name": "ipython",
        "version": 3
      },
      "pygments_lexer": "ipython3",
      "nbconvert_exporter": "python",
      "file_extension": ".py"
    },
    "gist": {
      "id": "",
      "data": {
        "description": "LabTAT.ipynb",
        "public": true
      }
    }
  },
  "nbformat": 4,
  "nbformat_minor": 4
}